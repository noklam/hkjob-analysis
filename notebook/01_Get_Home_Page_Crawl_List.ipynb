{
 "cells": [
  {
   "cell_type": "code",
   "execution_count": 1,
   "metadata": {
    "ExecuteTime": {
     "end_time": "2019-06-10T03:44:11.260637Z",
     "start_time": "2019-06-10T03:44:11.216720Z"
    },
    "lines_to_next_cell": 2
   },
   "outputs": [],
   "source": [
    "%load_ext autoreload\n",
    "%autoreload 2"
   ]
  },
  {
   "cell_type": "code",
   "execution_count": 2,
   "metadata": {
    "ExecuteTime": {
     "end_time": "2019-06-10T03:44:11.305533Z",
     "start_time": "2019-06-10T03:44:11.262591Z"
    }
   },
   "outputs": [],
   "source": [
    "# !pip install PyFunctional\n",
    "# !pip install tqdm"
   ]
  },
  {
   "cell_type": "code",
   "execution_count": 3,
   "metadata": {
    "ExecuteTime": {
     "end_time": "2019-06-10T03:44:11.750117Z",
     "start_time": "2019-06-10T03:44:11.312365Z"
    },
    "lines_to_next_cell": 2
   },
   "outputs": [],
   "source": [
    "import requests\n",
    "from bs4 import BeautifulSoup\n",
    "import re\n",
    "from functional import seq\n",
    "from tqdm import tqdm_notebook as tqdm"
   ]
  },
  {
   "cell_type": "code",
   "execution_count": 4,
   "metadata": {
    "ExecuteTime": {
     "end_time": "2019-06-10T03:44:11.858276Z",
     "start_time": "2019-06-10T03:44:11.753048Z"
    },
    "lines_to_next_cell": 2
   },
   "outputs": [],
   "source": [
    "def has_href(x):\n",
    "    return hasattr(x, \"href\")\n",
    "\n",
    "\n",
    "def extract_href(x):\n",
    "    return x.get(\"href\")"
   ]
  },
  {
   "cell_type": "code",
   "execution_count": 5,
   "metadata": {
    "ExecuteTime": {
     "end_time": "2019-06-10T03:44:11.925796Z",
     "start_time": "2019-06-10T03:44:11.860403Z"
    },
    "lines_to_next_cell": 2
   },
   "outputs": [],
   "source": [
    "class Crawler:\n",
    "    _class_no_jobs = \"_1f-toO_\"  # Subject to change\n",
    "    _class_jobs_pane = \"_35U47DP\"\n",
    "    _jobs_per_page = 30\n",
    "\n",
    "    def __init__(self,\n",
    "                 base_url: str = \"https://hk.jobsdb.com/hk/jobs/information-technology/\"):\n",
    "        self.base_url = base_url\n",
    "        self.home_url = self.base_url + \"1\"\n",
    "        self.soup_homepage = BeautifulSoup(requests.get(self.home_url).content, \"lxml\")\n",
    "\n",
    "    def get_numbers_of_job(self):\n",
    "        # '1-30 of 7634 jobs'\n",
    "        string = self.soup_homepage.find(\"span\", {\"class\": self._class_no_jobs}).parent.get_text()\n",
    "        pattern = re.compile(r'.+ of (\\d+) jobs')\n",
    "        search_group = pattern.search(string)\n",
    "        self.no_jobs = int(search_group.group(1))  # Extract the first group, group(0) is full match\n",
    "        if self.no_jobs:\n",
    "            print(f\"There are {self.no_jobs} jobs\")\n",
    "        else:\n",
    "            print('Maybe site is changed? cannot locate the numbers of jobs')\n",
    "\n",
    "    def get_numbers_of_page(self):\n",
    "        if self.no_jobs is None:\n",
    "            self.get_numbers_of_job(self.soup)\n",
    "        self.no_pages = self.no_jobs // self._jobs_per_page + 1\n",
    "        print(f\"There are {self.no_pages} pages\")\n",
    "        return self.no_jobs\n",
    "\n",
    "    def execute(self) -> list:\n",
    "        print('Start Crawling')\n",
    "\n",
    "        jobs_list = []\n",
    "        current_page = 1\n",
    "        page_to_crawl = self.base_url + str(current_page)\n",
    "\n",
    "        req = requests.get(page_to_crawl)\n",
    "        soup = BeautifulSoup(req.content, \"lxml\")\n",
    "\n",
    "        for current_page in tqdm(range(1, self.no_pages + 1)):\n",
    "            jobs_list = jobs_list + self.parse_href(soup)\n",
    "\n",
    "        print(\"Finish\")\n",
    "        print(f\"We Crawl {len(jobs_list)} jobs\")\n",
    "        return jobs_list\n",
    "\n",
    "    #             break\n",
    "\n",
    "    @classmethod\n",
    "    def is_job_href(self, href: str):\n",
    "        # https://hk.jobsdb.com/hk/en/job/associate-avp-vp-debt-capital-market-100003007140188\n",
    "        return href.startswith(\"https://hk.jobsdb.com/hk/en/job/\")\n",
    "\n",
    "    @classmethod\n",
    "    def parse_href(self, soup: BeautifulSoup):\n",
    "        #         print(\"parse job\")\n",
    "        tag_jobs_list = soup.select(\"#contentContainer\")[0].select(\"div > span > a\")\n",
    "        # Adopting some functional programming style here\n",
    "        href_list = (seq(tag_jobs_list)\n",
    "                     .filter(has_href)\n",
    "                     .map(extract_href)\n",
    "                     )\n",
    "        return list(href_list)"
   ]
  },
  {
   "cell_type": "code",
   "execution_count": 6,
   "metadata": {
    "ExecuteTime": {
     "end_time": "2019-06-10T03:44:12.624478Z",
     "start_time": "2019-06-10T03:44:11.928724Z"
    }
   },
   "outputs": [],
   "source": [
    "crawler = Crawler()"
   ]
  },
  {
   "cell_type": "code",
   "execution_count": 7,
   "metadata": {
    "ExecuteTime": {
     "end_time": "2019-06-10T03:44:12.706461Z",
     "start_time": "2019-06-10T03:44:12.626430Z"
    }
   },
   "outputs": [
    {
     "name": "stdout",
     "output_type": "stream",
     "text": [
      "There are 7370 jobs\n",
      "There are 246 pages\n"
     ]
    },
    {
     "data": {
      "text/plain": [
       "7370"
      ]
     },
     "execution_count": 7,
     "metadata": {},
     "output_type": "execute_result"
    }
   ],
   "source": [
    "crawler.get_numbers_of_job()  # Dirty Hack\n",
    "crawler.get_numbers_of_page()"
   ]
  },
  {
   "cell_type": "code",
   "execution_count": 8,
   "metadata": {
    "ExecuteTime": {
     "end_time": "2019-06-10T03:44:17.142938Z",
     "start_time": "2019-06-10T03:44:12.709389Z"
    },
    "lines_to_next_cell": 2
   },
   "outputs": [
    {
     "name": "stdout",
     "output_type": "stream",
     "text": [
      "Start Crawling\n"
     ]
    },
    {
     "data": {
      "application/vnd.jupyter.widget-view+json": {
       "model_id": "7311fdcb3d6c4d11afbd352c2a67a424",
       "version_major": 2,
       "version_minor": 0
      },
      "text/plain": [
       "HBox(children=(IntProgress(value=0, max=246), HTML(value='')))"
      ]
     },
     "metadata": {},
     "output_type": "display_data"
    },
    {
     "name": "stdout",
     "output_type": "stream",
     "text": [
      "\n",
      "Finish\n",
      "We Crawl 7380 jobs\n"
     ]
    }
   ],
   "source": [
    "crawler.jobs_list = crawler.execute()"
   ]
  },
  {
   "cell_type": "markdown",
   "metadata": {},
   "source": [
    "# Unit Test"
   ]
  },
  {
   "cell_type": "code",
   "execution_count": 9,
   "metadata": {
    "ExecuteTime": {
     "end_time": "2019-06-10T03:44:17.851852Z",
     "start_time": "2019-06-10T03:44:17.144890Z"
    },
    "lines_to_next_cell": 2
   },
   "outputs": [],
   "source": [
    "def test_get_page_response_200(request: requests.models.Response):\n",
    "    assert request.status_code == 200\n",
    "\n",
    "\n",
    "home_url = \"https://hk.jobsdb.com/hk/jobs/information-technology/1\"\n",
    "req = requests.get(home_url)\n",
    "test_get_page_response_200(req)"
   ]
  },
  {
   "cell_type": "code",
   "execution_count": 10,
   "metadata": {
    "ExecuteTime": {
     "end_time": "2019-06-10T03:44:18.742690Z",
     "start_time": "2019-06-10T03:44:17.856691Z"
    }
   },
   "outputs": [],
   "source": [
    "def test_is_job_href():\n",
    "    crawler = Crawler()\n",
    "    href = \"https://hk.jobsdb.com/hk/en/job/associate-avp-vp-debt-capital-market-100003007140188\"\n",
    "    assert crawler.is_job_href(href)\n",
    "\n",
    "\n",
    "test_is_job_href()"
   ]
  }
 ],
 "metadata": {
  "jupytext": {
   "formats": "ipynb,py:percent",
   "text_representation": {
    "extension": ".py",
    "format_name": "percent",
    "format_version": "1.2",
    "jupytext_version": "0.8.6"
   }
  },
  "kernelspec": {
   "display_name": "Python 3",
   "language": "python",
   "name": "python3"
  },
  "language_info": {
   "codemirror_mode": {
    "name": "ipython",
    "version": 3
   },
   "file_extension": ".py",
   "mimetype": "text/x-python",
   "name": "python",
   "nbconvert_exporter": "python",
   "pygments_lexer": "ipython3",
   "version": "3.6.5"
  },
  "toc": {
   "base_numbering": 1,
   "nav_menu": {},
   "number_sections": true,
   "sideBar": true,
   "skip_h1_title": false,
   "title_cell": "Table of Contents",
   "title_sidebar": "Contents",
   "toc_cell": false,
   "toc_position": {},
   "toc_section_display": true,
   "toc_window_display": false
  }
 },
 "nbformat": 4,
 "nbformat_minor": 2
}
